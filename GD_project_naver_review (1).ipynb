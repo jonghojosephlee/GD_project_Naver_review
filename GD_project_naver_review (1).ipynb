{
 "cells": [
  {
   "cell_type": "code",
   "execution_count": 3,
   "id": "5f1820b7",
   "metadata": {},
   "outputs": [],
   "source": [
    "import pickle\n",
    "import pandas as pd\n",
    "import numpy as np\n",
    "import matplotlib.pyplot as plt\n",
    "import re\n",
    "import urllib.request\n",
    "import tensorflow as tf\n",
    "\n",
    "from konlpy.tag import Okt\n",
    "from tqdm import tqdm\n",
    "from tensorflow.keras.preprocessing.text import Tokenizer\n",
    "from tensorflow.keras.preprocessing.sequence import pad_sequences"
   ]
  },
  {
   "cell_type": "code",
   "execution_count": 4,
   "id": "c6cd3a7a",
   "metadata": {},
   "outputs": [
    {
     "data": {
      "text/plain": [
       "('ratings_test.txt', <http.client.HTTPMessage at 0x7f2f89209340>)"
      ]
     },
     "execution_count": 4,
     "metadata": {},
     "output_type": "execute_result"
    }
   ],
   "source": [
    "url_train = \"https://raw.githubusercontent.com/e9t/nsmc/master/ratings_train.txt\"\n",
    "url_test = \"https://raw.githubusercontent.com/e9t/nsmc/master/ratings_test.txt\"\n",
    "\n",
    "urllib.request.urlretrieve(url_train, filename=\"ratings_train.txt\")\n",
    "urllib.request.urlretrieve(url_test, filename=\"ratings_test.txt\")"
   ]
  },
  {
   "cell_type": "code",
   "execution_count": 5,
   "id": "dfef9443",
   "metadata": {},
   "outputs": [],
   "source": [
    "train_data = pd.read_table('ratings_train.txt')\n",
    "test_data = pd.read_table('ratings_test.txt')"
   ]
  },
  {
   "cell_type": "code",
   "execution_count": 6,
   "id": "9e634618",
   "metadata": {},
   "outputs": [
    {
     "name": "stdout",
     "output_type": "stream",
     "text": [
      "(200000, 3)\n"
     ]
    }
   ],
   "source": [
    "import pandas as pd\n",
    "import urllib.request\n",
    "\n",
    "# Concatenate the dataframes\n",
    "all_data = pd.concat([train_data, test_data], axis=0)\n",
    "\n",
    "# Print the shape of the concatenated dataframe\n",
    "print(all_data.shape)\n"
   ]
  },
  {
   "cell_type": "code",
   "execution_count": 7,
   "id": "a4b1fcce",
   "metadata": {
    "scrolled": true
   },
   "outputs": [
    {
     "name": "stdout",
     "output_type": "stream",
     "text": [
      "리뷰 개수 : 200000\n"
     ]
    }
   ],
   "source": [
    "print('리뷰 개수 :',len(all_data)) # 리뷰 개수 출력"
   ]
  },
  {
   "cell_type": "code",
   "execution_count": 8,
   "id": "4ed3057c",
   "metadata": {
    "scrolled": true
   },
   "outputs": [
    {
     "data": {
      "text/html": [
       "<div>\n",
       "<style scoped>\n",
       "    .dataframe tbody tr th:only-of-type {\n",
       "        vertical-align: middle;\n",
       "    }\n",
       "\n",
       "    .dataframe tbody tr th {\n",
       "        vertical-align: top;\n",
       "    }\n",
       "\n",
       "    .dataframe thead th {\n",
       "        text-align: right;\n",
       "    }\n",
       "</style>\n",
       "<table border=\"1\" class=\"dataframe\">\n",
       "  <thead>\n",
       "    <tr style=\"text-align: right;\">\n",
       "      <th></th>\n",
       "      <th>id</th>\n",
       "      <th>document</th>\n",
       "      <th>label</th>\n",
       "    </tr>\n",
       "  </thead>\n",
       "  <tbody>\n",
       "    <tr>\n",
       "      <th>0</th>\n",
       "      <td>9976970</td>\n",
       "      <td>아 더빙.. 진짜 짜증나네요 목소리</td>\n",
       "      <td>0</td>\n",
       "    </tr>\n",
       "    <tr>\n",
       "      <th>1</th>\n",
       "      <td>3819312</td>\n",
       "      <td>흠...포스터보고 초딩영화줄....오버연기조차 가볍지 않구나</td>\n",
       "      <td>1</td>\n",
       "    </tr>\n",
       "    <tr>\n",
       "      <th>2</th>\n",
       "      <td>10265843</td>\n",
       "      <td>너무재밓었다그래서보는것을추천한다</td>\n",
       "      <td>0</td>\n",
       "    </tr>\n",
       "    <tr>\n",
       "      <th>3</th>\n",
       "      <td>9045019</td>\n",
       "      <td>교도소 이야기구먼 ..솔직히 재미는 없다..평점 조정</td>\n",
       "      <td>0</td>\n",
       "    </tr>\n",
       "    <tr>\n",
       "      <th>4</th>\n",
       "      <td>6483659</td>\n",
       "      <td>사이몬페그의 익살스런 연기가 돋보였던 영화!스파이더맨에서 늙어보이기만 했던 커스틴 ...</td>\n",
       "      <td>1</td>\n",
       "    </tr>\n",
       "  </tbody>\n",
       "</table>\n",
       "</div>"
      ],
      "text/plain": [
       "         id                                           document  label\n",
       "0   9976970                                아 더빙.. 진짜 짜증나네요 목소리      0\n",
       "1   3819312                  흠...포스터보고 초딩영화줄....오버연기조차 가볍지 않구나      1\n",
       "2  10265843                                  너무재밓었다그래서보는것을추천한다      0\n",
       "3   9045019                      교도소 이야기구먼 ..솔직히 재미는 없다..평점 조정      0\n",
       "4   6483659  사이몬페그의 익살스런 연기가 돋보였던 영화!스파이더맨에서 늙어보이기만 했던 커스틴 ...      1"
      ]
     },
     "execution_count": 8,
     "metadata": {},
     "output_type": "execute_result"
    }
   ],
   "source": [
    "all_data[0:5]"
   ]
  },
  {
   "cell_type": "code",
   "execution_count": null,
   "id": "4dd0efa3",
   "metadata": {},
   "outputs": [],
   "source": []
  },
  {
   "cell_type": "code",
   "execution_count": 9,
   "id": "3f44e12c",
   "metadata": {},
   "outputs": [],
   "source": [
    "origin_len = len(all_data)"
   ]
  },
  {
   "cell_type": "code",
   "execution_count": 10,
   "id": "d1aab42f",
   "metadata": {
    "scrolled": true
   },
   "outputs": [
    {
     "data": {
      "text/plain": [
       "id          0\n",
       "document    8\n",
       "label       0\n",
       "dtype: int64"
      ]
     },
     "execution_count": 10,
     "metadata": {},
     "output_type": "execute_result"
    }
   ],
   "source": [
    "all_data.isnull().sum()"
   ]
  },
  {
   "cell_type": "code",
   "execution_count": 11,
   "id": "eff7d3ac",
   "metadata": {},
   "outputs": [],
   "source": [
    "all_data = all_data.dropna(how='any')"
   ]
  },
  {
   "cell_type": "code",
   "execution_count": 12,
   "id": "cee86315",
   "metadata": {
    "scrolled": true
   },
   "outputs": [
    {
     "name": "stdout",
     "output_type": "stream",
     "text": [
      "결측치 제거 후 데이터 개수 : 199992\n"
     ]
    }
   ],
   "source": [
    "print('결측치 제거 후 데이터 개수 :', len(all_data))  "
   ]
  },
  {
   "cell_type": "code",
   "execution_count": 13,
   "id": "46e519d2",
   "metadata": {},
   "outputs": [],
   "source": [
    "cleaned_corpus = all_data.drop_duplicates(['document'])   "
   ]
  },
  {
   "cell_type": "code",
   "execution_count": 14,
   "id": "01b6636f",
   "metadata": {
    "scrolled": true
   },
   "outputs": [
    {
     "name": "stdout",
     "output_type": "stream",
     "text": [
      "전처리 전 데이터 개수 : 200000\n",
      "전처리 후 데이터 개수 : 194543\n",
      "전처리 후 남은 데이터 양(%) 97.2715\n"
     ]
    }
   ],
   "source": [
    "print('전처리 전 데이터 개수 :', origin_len)\n",
    "print('전처리 후 데이터 개수 :', len(cleaned_corpus)) \n",
    "print('전처리 후 남은 데이터 양(%)', (len(cleaned_corpus)/origin_len)*100)"
   ]
  },
  {
   "cell_type": "code",
   "execution_count": 15,
   "id": "d2076617",
   "metadata": {},
   "outputs": [
    {
     "data": {
      "text/html": [
       "<div>\n",
       "<style scoped>\n",
       "    .dataframe tbody tr th:only-of-type {\n",
       "        vertical-align: middle;\n",
       "    }\n",
       "\n",
       "    .dataframe tbody tr th {\n",
       "        vertical-align: top;\n",
       "    }\n",
       "\n",
       "    .dataframe thead th {\n",
       "        text-align: right;\n",
       "    }\n",
       "</style>\n",
       "<table border=\"1\" class=\"dataframe\">\n",
       "  <thead>\n",
       "    <tr style=\"text-align: right;\">\n",
       "      <th></th>\n",
       "      <th>id</th>\n",
       "      <th>document</th>\n",
       "      <th>label</th>\n",
       "    </tr>\n",
       "  </thead>\n",
       "  <tbody>\n",
       "    <tr>\n",
       "      <th>0</th>\n",
       "      <td>9976970</td>\n",
       "      <td>아 더빙.. 진짜 짜증나네요 목소리</td>\n",
       "      <td>0</td>\n",
       "    </tr>\n",
       "    <tr>\n",
       "      <th>1</th>\n",
       "      <td>3819312</td>\n",
       "      <td>흠...포스터보고 초딩영화줄....오버연기조차 가볍지 않구나</td>\n",
       "      <td>1</td>\n",
       "    </tr>\n",
       "    <tr>\n",
       "      <th>2</th>\n",
       "      <td>10265843</td>\n",
       "      <td>너무재밓었다그래서보는것을추천한다</td>\n",
       "      <td>0</td>\n",
       "    </tr>\n",
       "    <tr>\n",
       "      <th>3</th>\n",
       "      <td>9045019</td>\n",
       "      <td>교도소 이야기구먼 ..솔직히 재미는 없다..평점 조정</td>\n",
       "      <td>0</td>\n",
       "    </tr>\n",
       "    <tr>\n",
       "      <th>4</th>\n",
       "      <td>6483659</td>\n",
       "      <td>사이몬페그의 익살스런 연기가 돋보였던 영화!스파이더맨에서 늙어보이기만 했던 커스틴 ...</td>\n",
       "      <td>1</td>\n",
       "    </tr>\n",
       "  </tbody>\n",
       "</table>\n",
       "</div>"
      ],
      "text/plain": [
       "         id                                           document  label\n",
       "0   9976970                                아 더빙.. 진짜 짜증나네요 목소리      0\n",
       "1   3819312                  흠...포스터보고 초딩영화줄....오버연기조차 가볍지 않구나      1\n",
       "2  10265843                                  너무재밓었다그래서보는것을추천한다      0\n",
       "3   9045019                      교도소 이야기구먼 ..솔직히 재미는 없다..평점 조정      0\n",
       "4   6483659  사이몬페그의 익살스런 연기가 돋보였던 영화!스파이더맨에서 늙어보이기만 했던 커스틴 ...      1"
      ]
     },
     "execution_count": 15,
     "metadata": {},
     "output_type": "execute_result"
    }
   ],
   "source": [
    "cleaned_corpus.head()"
   ]
  },
  {
   "cell_type": "code",
   "execution_count": null,
   "id": "77717754",
   "metadata": {},
   "outputs": [],
   "source": []
  },
  {
   "cell_type": "code",
   "execution_count": null,
   "id": "f6e04c54",
   "metadata": {},
   "outputs": [],
   "source": []
  },
  {
   "cell_type": "code",
   "execution_count": 16,
   "id": "a28046a6",
   "metadata": {},
   "outputs": [],
   "source": [
    "reviews = cleaned_corpus ['document']"
   ]
  },
  {
   "cell_type": "code",
   "execution_count": 17,
   "id": "6faac2b6",
   "metadata": {
    "scrolled": false
   },
   "outputs": [
    {
     "name": "stdout",
     "output_type": "stream",
     "text": [
      "문장의 최단 길이: 1\n",
      "문장의 최장 길이: 146\n",
      "문장의 평균 길이: 36\n"
     ]
    },
    {
     "name": "stderr",
     "output_type": "stream",
     "text": [
      "/tmp/ipykernel_32/926328797.py:19: DeprecationWarning: `np.int` is a deprecated alias for the builtin `int`. To silence this warning, use `int` by itself. Doing this will not modify any behavior and is safe. When replacing `np.int`, you may wish to use e.g. `np.int64` or `np.int32` to specify the precision. If you wish to review your current use, check the release note link for additional information.\n",
      "Deprecated in NumPy 1.20; for more details and guidance: https://numpy.org/devdocs/release/1.20.0-notes.html#deprecations\n",
      "  sentence_length = np.zeros((max_len), dtype=np.int)\n"
     ]
    },
    {
     "data": {
      "image/png": "[encoded data removed]",
      "text/plain": [
       "<Figure size 432x288 with 1 Axes>"
      ]
     },
     "metadata": {
      "needs_background": "light"
     },
     "output_type": "display_data"
    }
   ],
   "source": [
    "min_len = 999\n",
    "max_len = 0\n",
    "sum_len = 0\n",
    "\n",
    "for sen in reviews:\n",
    "    length = len(sen)\n",
    "    if min_len > length: \n",
    "        min_len = length\n",
    "        \n",
    "    if max_len < length: \n",
    "        max_len = length\n",
    "    \n",
    "    sum_len += length\n",
    "\n",
    "print(\"문장의 최단 길이:\", min_len)\n",
    "print(\"문장의 최장 길이:\", max_len)\n",
    "print(\"문장의 평균 길이:\", sum_len // len(reviews))\n",
    "\n",
    "sentence_length = np.zeros((max_len), dtype=np.int)\n",
    "\n",
    "for sen in reviews:\n",
    "    sentence_length[len(sen)-1] += 1\n",
    "\n",
    "plt.bar(range(max_len), sentence_length, width=1.0)\n",
    "plt.title(\"Sentence Length Distribution\")\n",
    "plt.show()"
   ]
  },
  {
   "cell_type": "code",
   "execution_count": 18,
   "id": "8de315a6",
   "metadata": {
    "scrolled": true
   },
   "outputs": [
    {
     "name": "stdout",
     "output_type": "stream",
     "text": [
      "아\n",
      "잼\n",
      "1\n",
      "4\n",
      "굿\n",
      "짱\n",
      "휴\n",
      ".\n",
      "음\n",
      "?\n",
      "ㅎ\n",
      "ㅋ\n",
      "즐\n",
      "♥\n",
      "굳\n",
      "네\n",
      "ㅇ\n",
      "k\n",
      "ㅠ\n",
      "쒯\n",
      "♬\n",
      "토\n",
      "O\n",
      "똥\n",
      "z\n",
      "헐\n",
      "삼\n",
      "꽝\n",
      "!\n",
      "풉\n",
      "ㅅ\n",
      "왜\n",
      "ㄴ\n",
      "쉣\n",
      "봐\n",
      "뿌\n",
      "ㅜ\n",
      "♡\n",
      "ㅁ\n",
      "0\n",
      "ㅉ\n",
      "d\n",
      "흥\n",
      "乃\n",
      "찜\n",
      "귯\n",
      "린\n",
      "시\n",
      "ㅗ\n",
      "a\n",
      "c\n",
      "흠\n",
      "웅\n",
      "ㅣ\n",
      "오\n",
      "9\n",
      "쩜\n",
      "애\n",
      "헝\n",
      "쨩\n",
      "f\n",
      "움\n",
      "ㄳ\n",
      "업\n",
      "헉\n",
      "군\n",
      "b\n",
      ";\n",
      "g\n",
      "올\n",
      "걍\n",
      "허\n",
      "-\n",
      "쀍\n",
      "로\n",
      "ㄹ\n",
      "ㅂ\n",
      "갑\n",
      "즛\n",
      "킥\n",
      "함\n",
      "진\n",
      "ㅡ\n",
      "잠\n",
      "곧\n",
      "ㅍ\n",
      "h\n",
      "·\n",
      "캬\n",
      "ㅆ\n",
      ",\n",
      "풋\n",
      "ㄱ\n",
      "파\n",
      "ㄷ\n",
      "웩\n",
      "꺅\n",
      "욜\n",
      "ㅄ\n",
      "2\n",
      "핡\n"
     ]
    }
   ],
   "source": [
    "def check_sentence_with_length(reviews, length):\n",
    "    count = 0\n",
    "    \n",
    "    for sen in reviews:\n",
    "        if len(sen) == length:\n",
    "            print(sen)\n",
    "            count += 1\n",
    "            if count > 100: return\n",
    "\n",
    "check_sentence_with_length(reviews, 1)"
   ]
  },
  {
   "cell_type": "code",
   "execution_count": 19,
   "id": "87c12b82",
   "metadata": {
    "scrolled": true
   },
   "outputs": [
    {
     "name": "stdout",
     "output_type": "stream",
     "text": [
      "백봉기 언제나오나요?\n",
      "아주 모자라진 않다.\n",
      "공유 존잘!!!ㅎㅎㅎ\n",
      "4대2라니....최악\n",
      "내 생의 최고의 영화\n",
      "이딴게 한국 영화라니\n",
      "번지수 잃고 갈팡질팡\n",
      "너무나 감동적인 영화\n",
      "내 인생 최고의 영화\n",
      "참 재밌는 영화 ㅎㅎ\n",
      "2.2고고하자 ㅋㅋㅋ\n",
      "난 별로던데 -_ -\n",
      "커스틴 때문에 좋겠다\n",
      "재미있게봄 감동적이고\n",
      "딱 90년대코미디영화\n",
      "이건좀 아니잖아...\n",
      "최고의 드라마....\n",
      "야경꾼보다 엉망지루함\n",
      "딱말해준다잉 안나온다\n",
      "장선우 여전히 쓰레기\n",
      "한국영화흥행의 시작점\n",
      "이런게 영화라는거죠.\n",
      "억지...억지....\n",
      "세련되고 재밌었어요.\n",
      "시대착오적 애니메이션\n",
      "이건 또 뭔가요;;;\n",
      "망작 중의 망작...\n",
      "노답이다 진짜....\n",
      "무의미한 애니메이션.\n",
      "거 참 재밌는 영화균\n",
      "상영관좀 늘려주세요.\n",
      "픽션이지만 재미뚬ㅎㅎ\n",
      "한지민은 여신이다..\n",
      "또 번개냐 ㅋㅋㅋㅋㅋ\n",
      "뷰우우우우티이이이이풀\n",
      "막장드라됨급도 안됨.\n",
      "2탄에 비하면 뭐..\n",
      "개꿀잼ㅋ개꿀잼ㅋ10자\n",
      "재밌어요 나름 괜찮음\n",
      "너무 감동적이에욧><\n",
      "그지같다고!!!!!!\n",
      "별로에요 재미없네요호\n",
      "짜리몽땅 파이팅!!!\n",
      "구관이 명관이다...\n",
      "진짜볼만함!!@!@!\n",
      "하 시방ㅡㅡ:@!?.\n",
      "이제보니까 장백기였네\n",
      "쓰레기..10자 채움\n",
      "하나님살려주시지...\n",
      "대략 재미 없음...\n",
      "굿굿 잘봤습니다~~ㅅ\n",
      "나도 다큐나 찍어볼까\n",
      "마지막에어이없네왜죽어\n",
      "아바타같은소리하네..\n",
      "이건 정말 명작이네요\n",
      "별덤높이기다디다디도러\n",
      "재밌다........\n",
      "쓰레기다 솔직히...\n",
      "정말 현실성없는 영화\n",
      "재밌게 잘봣습니다!!\n",
      "어린아이들만 재미있고\n",
      "그렇게 대단하지 않다\n",
      "로코좋아하는분께추천!\n",
      "린제리 로한 사랑함.\n",
      "내용을말로표현못하게씀\n",
      "잼있습니다 야호호호호\n",
      "정말 훈훈한방송입니다\n",
      "박준형?이 나온다;;\n",
      "병만옹 짱짜아악앙맨앤\n",
      "재미있네요.훌륭합니다\n",
      "정말 소름끼친다!!!\n",
      "오겡끼데쓰까 부시맨!\n",
      "좋다.,/,./,./\n",
      "말할것도없다 최고ㅇㅇ\n",
      "일하기싫었나봐여ㅎㅅㅎ\n",
      "인생을 느끼다....\n",
      "기억이 가물가물하네요\n",
      "꿀잼 다시보고싶은영화\n",
      "표절?표절?표절?표절\n",
      "이거 우리나라꺼 아님\n",
      "개연성은 개나 줘버려\n",
      "엉망진창 로맨틱드라마\n",
      "가슴이 바운OO운스~\n",
      "노잼 ㅡㅡ보지마세요!\n",
      "최고ㅘ하하하하ㅏㅏㅏ핳\n",
      "심심할때 보면 재밋지\n",
      "지루하고 재미가 없음\n",
      "못생긴사람들의 이야기\n",
      "강아지가 주인공임??\n",
      "최고의영화! ..,,\n",
      "그냥 웃어주자 하하하\n",
      "별로야..,,,,..\n",
      "디카프리오...bbb\n",
      "개인적 공감이 글쎄?\n",
      "쿠바로 떠나고 싶다.\n",
      "그냥 좀비판 B급영화\n",
      "레고 홍보영화 인듯.\n",
      "소블리~♥ 공블리~♥\n",
      "참다 결국 포기하다.\n",
      "시간낭비. 괜히봤다.\n",
      "성룡이 왠 로맨스??\n"
     ]
    }
   ],
   "source": [
    "check_sentence_with_length(reviews, 11)"
   ]
  },
  {
   "cell_type": "code",
   "execution_count": 20,
   "id": "6e8873f9",
   "metadata": {},
   "outputs": [
    {
     "name": "stdout",
     "output_type": "stream",
     "text": [
      "Data Size: 194543\n",
      "문장의 최단 길이: 1\n",
      "문장의 최장 길이: 146\n",
      "문장의 평균 길이: 36\n"
     ]
    },
    {
     "data": {
      "image/png": "[encoded data removed]",
      "text/plain": [
       "<Figure size 432x288 with 1 Axes>"
      ]
     },
     "metadata": {
      "needs_background": "light"
     },
     "output_type": "display_data"
    }
   ],
   "source": [
    "# 노이즈 제거 후 다시 실행해보기\n",
    "\n",
    "min_len = 999\n",
    "max_len = 0\n",
    "sum_len = 0\n",
    "\n",
    "cleaned_corpus = list(set(reviews))  # set를 사용해서 중복을 제거합니다.\n",
    "print(\"Data Size:\", len(cleaned_corpus))\n",
    "\n",
    "for sen in cleaned_corpus:\n",
    "    length = len(sen)\n",
    "    if min_len > length: min_len = length\n",
    "    if max_len < length: max_len = length\n",
    "    sum_len += length\n",
    "\n",
    "print(\"문장의 최단 길이:\", min_len)\n",
    "print(\"문장의 최장 길이:\", max_len)\n",
    "print(\"문장의 평균 길이:\", sum_len // len(cleaned_corpus))\n",
    "\n",
    "sentence_length = np.zeros((max_len), dtype=int)\n",
    "\n",
    "for sen in cleaned_corpus:   # 중복이 제거된 코퍼스 기준\n",
    "    sentence_length[len(sen)-1] += 1\n",
    "\n",
    "plt.bar(range(max_len), sentence_length, width=1.0)\n",
    "plt.title(\"Sentence Length Distribution\")\n",
    "plt.show()"
   ]
  },
  {
   "cell_type": "code",
   "execution_count": 21,
   "id": "0a102cff",
   "metadata": {},
   "outputs": [
    {
     "data": {
      "image/png": "[encoded data removed]",
      "text/plain": [
       "<Figure size 432x288 with 1 Axes>"
      ]
     },
     "metadata": {
      "needs_background": "light"
     },
     "output_type": "display_data"
    }
   ],
   "source": [
    "# 편향성 없애기 위해 150 이상 없애고 10미만 없앰\n",
    "\n",
    "max_len = 150\n",
    "min_len = 10\n",
    "\n",
    "# 길이 조건에 맞는 문장만 선택합니다.\n",
    "filtered_corpus = [s for s in cleaned_corpus if (len(s) < max_len) & (len(s) >= min_len)]\n",
    "\n",
    "# 분포도를 다시 그려봅니다.\n",
    "sentence_length = np.zeros((max_len), dtype=int)\n",
    "\n",
    "for sen in filtered_corpus:\n",
    "    sentence_length[len(sen)-1] += 1\n",
    "\n",
    "plt.bar(range(max_len), sentence_length, width=1.0)\n",
    "plt.title(\"Sentence Length Distribution\")\n",
    "plt.show()"
   ]
  },
  {
   "cell_type": "code",
   "execution_count": 22,
   "id": "d2a088cd",
   "metadata": {},
   "outputs": [
    {
     "data": {
      "text/plain": [
       "<AxesSubplot:>"
      ]
     },
     "execution_count": 22,
     "metadata": {},
     "output_type": "execute_result"
    },
    {
     "data": {
      "image/png": "[encoded data removed]",
      "text/plain": [
       "<Figure size 432x288 with 1 Axes>"
      ]
     },
     "metadata": {
      "needs_background": "light"
     },
     "output_type": "display_data"
    }
   ],
   "source": [
    "# 전체적인 긍부정 유무를 따져보자\n",
    "\n",
    "all_data ['label'].value_counts().plot(kind = 'bar')"
   ]
  },
  {
   "cell_type": "code",
   "execution_count": null,
   "id": "850171c2",
   "metadata": {},
   "outputs": [],
   "source": []
  },
  {
   "cell_type": "code",
   "execution_count": 23,
   "id": "cdec0cc3",
   "metadata": {},
   "outputs": [],
   "source": [
    "# tokenizer 함수\n",
    "\n",
    "def tokenize(corpus):  # corpus: Tokenized Sentence's List\n",
    "    tokenizer = tf.keras.preprocessing.text.Tokenizer(filters='')\n",
    "    tokenizer.fit_on_texts(corpus)\n",
    "\n",
    "    tensor = tokenizer.texts_to_sequences(corpus)\n",
    "\n",
    "    tensor = tf.keras.preprocessing.sequence.pad_sequences(tensor, padding='post')\n",
    "\n",
    "    return tensor, tokenizer"
   ]
  },
  {
   "cell_type": "code",
   "execution_count": 24,
   "id": "9445defb",
   "metadata": {},
   "outputs": [],
   "source": [
    "# 정제된 데이터 filtered_corpus를 공백 기반으로 토큰화하여 저장하는 코드를 직접 작성해 보세요.\n",
    "split_corpus = []  # 토큰화된 데이터 저장 리스트 공간\n",
    "\n",
    "for kor in filtered_corpus:\n",
    "    split_corpus = []\n",
    "\n",
    "for kor in filtered_corpus:\n",
    "    split_corpus.append(kor.split())"
   ]
  },
  {
   "cell_type": "code",
   "execution_count": 25,
   "id": "5687a7dc",
   "metadata": {},
   "outputs": [
    {
     "name": "stdout",
     "output_type": "stream",
     "text": [
      "Split Vocab Size: 444122\n"
     ]
    }
   ],
   "source": [
    "split_tensor, split_tokenizer = tokenize(split_corpus)\n",
    "\n",
    "print(\"Split Vocab Size:\", len(split_tokenizer.index_word))"
   ]
  },
  {
   "cell_type": "code",
   "execution_count": 26,
   "id": "b2ba5800",
   "metadata": {},
   "outputs": [
    {
     "name": "stdout",
     "output_type": "stream",
     "text": [
      "0 : 영화\n",
      "1 : 너무\n",
      "2 : 정말\n",
      "3 : 진짜\n",
      "4 : 이\n",
      "5 : 영화.\n",
      "6 : 더\n",
      "7 : 왜\n",
      "8 : 이런\n",
      "9 : 그냥\n",
      "10 : 수\n",
      "11 : 영화를\n"
     ]
    }
   ],
   "source": [
    "for idx, word in enumerate(split_tokenizer.word_index):\n",
    "    print(idx, \":\", word)\n",
    "\n",
    "    if idx > 10: break"
   ]
  },
  {
   "cell_type": "code",
   "execution_count": null,
   "id": "bb653f4d",
   "metadata": {},
   "outputs": [],
   "source": []
  },
  {
   "cell_type": "code",
   "execution_count": null,
   "id": "04beee0c",
   "metadata": {},
   "outputs": [],
   "source": []
  },
  {
   "cell_type": "code",
   "execution_count": 27,
   "id": "072c88d6",
   "metadata": {},
   "outputs": [],
   "source": [
    "# SentencePiece"
   ]
  },
  {
   "cell_type": "code",
   "execution_count": 28,
   "id": "a816acb4",
   "metadata": {},
   "outputs": [
    {
     "name": "stderr",
     "output_type": "stream",
     "text": [
      "sentencepiece_trainer.cc(177) LOG(INFO) Running command: --input=/aiffel/aiffel/sp_tokenizer/data/korean-english-park.train.ko.temp --model_prefix=korean_spm --vocab_size=8000\n",
      "sentencepiece_trainer.cc(77) LOG(INFO) Starts training with : \n",
      "trainer_spec {\n",
      "  input: /aiffel/aiffel/sp_tokenizer/data/korean-english-park.train.ko.temp\n",
      "  input_format: \n",
      "  model_prefix: korean_spm\n",
      "  model_type: UNIGRAM\n",
      "  vocab_size: 8000\n",
      "  self_test_sample_size: 0\n",
      "  character_coverage: 0.9995\n",
      "  input_sentence_size: 0\n",
      "  shuffle_input_sentence: 1\n",
      "  seed_sentencepiece_size: 1000000\n",
      "  shrinking_factor: 0.75\n",
      "  max_sentence_length: 4192\n",
      "  num_threads: 16\n",
      "  num_sub_iterations: 2\n",
      "  max_sentencepiece_length: 16\n",
      "  split_by_unicode_script: 1\n",
      "  split_by_number: 1\n",
      "  split_by_whitespace: 1\n",
      "  split_digits: 0\n",
      "  treat_whitespace_as_suffix: 0\n",
      "  allow_whitespace_only_pieces: 0\n",
      "  required_chars: \n",
      "  byte_fallback: 0\n",
      "  vocabulary_output_piece_score: 1\n",
      "  train_extremely_large_corpus: 0\n",
      "  hard_vocab_limit: 1\n",
      "  use_all_vocab: 0\n",
      "  unk_id: 0\n",
      "  bos_id: 1\n",
      "  eos_id: 2\n",
      "  pad_id: -1\n",
      "  unk_piece: <unk>\n",
      "  bos_piece: <s>\n",
      "  eos_piece: </s>\n",
      "  pad_piece: <pad>\n",
      "  unk_surface:  ⁇ \n",
      "}\n",
      "normalizer_spec {\n",
      "  name: nmt_nfkc\n",
      "  add_dummy_prefix: 1\n",
      "  remove_extra_whitespaces: 1\n",
      "  escape_whitespaces: 1\n",
      "  normalization_rule_tsv: \n",
      "}\n",
      "denormalizer_spec {}\n",
      "trainer_interface.cc(329) LOG(INFO) SentenceIterator is not specified. Using MultiFileSentenceIterator.\n",
      "trainer_interface.cc(178) LOG(INFO) Loading corpus: /aiffel/aiffel/sp_tokenizer/data/korean-english-park.train.ko.temp\n",
      "trainer_interface.cc(385) LOG(INFO) Loaded all 181698 sentences\n",
      "trainer_interface.cc(400) LOG(INFO) Adding meta_piece: <unk>\n",
      "trainer_interface.cc(400) LOG(INFO) Adding meta_piece: <s>\n",
      "trainer_interface.cc(400) LOG(INFO) Adding meta_piece: </s>\n",
      "trainer_interface.cc(405) LOG(INFO) Normalizing sentences...\n",
      "trainer_interface.cc(466) LOG(INFO) all chars count=7114733\n",
      "trainer_interface.cc(477) LOG(INFO) Done: 99.9501% characters are covered.\n",
      "trainer_interface.cc(487) LOG(INFO) Alphabet size=1715\n",
      "trainer_interface.cc(488) LOG(INFO) Final character coverage=0.999501\n",
      "trainer_interface.cc(520) LOG(INFO) Done! preprocessed 181698 sentences.\n",
      "unigram_model_trainer.cc(139) LOG(INFO) Making suffix array...\n",
      "unigram_model_trainer.cc(143) LOG(INFO) Extracting frequent sub strings...\n",
      "unigram_model_trainer.cc(194) LOG(INFO) Initialized 382286 seed sentencepieces\n",
      "trainer_interface.cc(526) LOG(INFO) Tokenizing input sentences with whitespace: 181698\n",
      "trainer_interface.cc(537) LOG(INFO) Done! 444431\n",
      "unigram_model_trainer.cc(489) LOG(INFO) Using 444431 sentences for EM training\n",
      "unigram_model_trainer.cc(505) LOG(INFO) EM sub_iter=0 size=192132 obj=15.4052 num_tokens=1052454 num_tokens/piece=5.47777\n",
      "unigram_model_trainer.cc(505) LOG(INFO) EM sub_iter=1 size=177559 obj=14.3172 num_tokens=1058974 num_tokens/piece=5.96407\n",
      "unigram_model_trainer.cc(505) LOG(INFO) EM sub_iter=0 size=133101 obj=14.398 num_tokens=1101900 num_tokens/piece=8.27868\n",
      "unigram_model_trainer.cc(505) LOG(INFO) EM sub_iter=1 size=132875 obj=14.3458 num_tokens=1102354 num_tokens/piece=8.29617\n",
      "unigram_model_trainer.cc(505) LOG(INFO) EM sub_iter=0 size=99650 obj=14.5592 num_tokens=1154910 num_tokens/piece=11.5897\n",
      "unigram_model_trainer.cc(505) LOG(INFO) EM sub_iter=1 size=99639 obj=14.5026 num_tokens=1155053 num_tokens/piece=11.5924\n",
      "unigram_model_trainer.cc(505) LOG(INFO) EM sub_iter=0 size=74729 obj=14.7361 num_tokens=1205023 num_tokens/piece=16.1252\n",
      "unigram_model_trainer.cc(505) LOG(INFO) EM sub_iter=1 size=74728 obj=14.6807 num_tokens=1205034 num_tokens/piece=16.1256\n",
      "unigram_model_trainer.cc(505) LOG(INFO) EM sub_iter=0 size=56046 obj=14.9493 num_tokens=1258678 num_tokens/piece=22.4579\n",
      "unigram_model_trainer.cc(505) LOG(INFO) EM sub_iter=1 size=56046 obj=14.8902 num_tokens=1258703 num_tokens/piece=22.4584\n",
      "unigram_model_trainer.cc(505) LOG(INFO) EM sub_iter=0 size=42034 obj=15.1863 num_tokens=1313098 num_tokens/piece=31.2389\n",
      "unigram_model_trainer.cc(505) LOG(INFO) EM sub_iter=1 size=42034 obj=15.1244 num_tokens=1313147 num_tokens/piece=31.2401\n",
      "unigram_model_trainer.cc(505) LOG(INFO) EM sub_iter=0 size=31525 obj=15.4507 num_tokens=1369750 num_tokens/piece=43.4496\n",
      "unigram_model_trainer.cc(505) LOG(INFO) EM sub_iter=1 size=31525 obj=15.3829 num_tokens=1369746 num_tokens/piece=43.4495\n",
      "unigram_model_trainer.cc(505) LOG(INFO) EM sub_iter=0 size=23643 obj=15.7435 num_tokens=1430331 num_tokens/piece=60.497\n",
      "unigram_model_trainer.cc(505) LOG(INFO) EM sub_iter=1 size=23643 obj=15.668 num_tokens=1430355 num_tokens/piece=60.498\n",
      "unigram_model_trainer.cc(505) LOG(INFO) EM sub_iter=0 size=17732 obj=16.0657 num_tokens=1494542 num_tokens/piece=84.285\n",
      "unigram_model_trainer.cc(505) LOG(INFO) EM sub_iter=1 size=17732 obj=15.9802 num_tokens=1494575 num_tokens/piece=84.2869\n",
      "unigram_model_trainer.cc(505) LOG(INFO) EM sub_iter=0 size=13299 obj=16.4099 num_tokens=1563112 num_tokens/piece=117.536\n",
      "unigram_model_trainer.cc(505) LOG(INFO) EM sub_iter=1 size=13299 obj=16.3067 num_tokens=1563225 num_tokens/piece=117.545\n",
      "unigram_model_trainer.cc(505) LOG(INFO) EM sub_iter=0 size=9974 obj=16.7817 num_tokens=1635816 num_tokens/piece=164.008\n",
      "unigram_model_trainer.cc(505) LOG(INFO) EM sub_iter=1 size=9974 obj=16.6742 num_tokens=1635829 num_tokens/piece=164.009\n",
      "unigram_model_trainer.cc(505) LOG(INFO) EM sub_iter=0 size=8800 obj=16.9008 num_tokens=1669019 num_tokens/piece=189.661\n",
      "unigram_model_trainer.cc(505) LOG(INFO) EM sub_iter=1 size=8800 obj=16.8525 num_tokens=1669434 num_tokens/piece=189.708\n",
      "trainer_interface.cc(615) LOG(INFO) Saving model: korean_spm.model\n",
      "trainer_interface.cc(626) LOG(INFO) Saving vocabs: korean_spm.vocab\n",
      "sentencepiece_trainer.cc(177) LOG(INFO) Running command: --input=/aiffel/aiffel/sp_tokenizer/data/korean-english-park.train.ko.temp --model_prefix=kor_spm_bpe_8k --model_type=bpe --vocab_size=8000\n",
      "sentencepiece_trainer.cc(77) LOG(INFO) Starts training with : \n",
      "trainer_spec {\n",
      "  input: /aiffel/aiffel/sp_tokenizer/data/korean-english-park.train.ko.temp\n",
      "  input_format: \n",
      "  model_prefix: kor_spm_bpe_8k\n",
      "  model_type: BPE\n",
      "  vocab_size: 8000\n",
      "  self_test_sample_size: 0\n",
      "  character_coverage: 0.9995\n",
      "  input_sentence_size: 0\n",
      "  shuffle_input_sentence: 1\n",
      "  seed_sentencepiece_size: 1000000\n",
      "  shrinking_factor: 0.75\n",
      "  max_sentence_length: 4192\n",
      "  num_threads: 16\n",
      "  num_sub_iterations: 2\n",
      "  max_sentencepiece_length: 16\n",
      "  split_by_unicode_script: 1\n",
      "  split_by_number: 1\n",
      "  split_by_whitespace: 1\n",
      "  split_digits: 0\n",
      "  treat_whitespace_as_suffix: 0\n",
      "  allow_whitespace_only_pieces: 0\n",
      "  required_chars: \n",
      "  byte_fallback: 0\n",
      "  vocabulary_output_piece_score: 1\n",
      "  train_extremely_large_corpus: 0\n",
      "  hard_vocab_limit: 1\n",
      "  use_all_vocab: 0\n",
      "  unk_id: 0\n",
      "  bos_id: 1\n",
      "  eos_id: 2\n",
      "  pad_id: -1\n",
      "  unk_piece: <unk>\n",
      "  bos_piece: <s>\n",
      "  eos_piece: </s>\n",
      "  pad_piece: <pad>\n",
      "  unk_surface:  ⁇ \n",
      "}\n",
      "normalizer_spec {\n",
      "  name: nmt_nfkc\n",
      "  add_dummy_prefix: 1\n",
      "  remove_extra_whitespaces: 1\n",
      "  escape_whitespaces: 1\n",
      "  normalization_rule_tsv: \n",
      "}\n",
      "denormalizer_spec {}\n",
      "trainer_interface.cc(329) LOG(INFO) SentenceIterator is not specified. Using MultiFileSentenceIterator.\n",
      "trainer_interface.cc(178) LOG(INFO) Loading corpus: /aiffel/aiffel/sp_tokenizer/data/korean-english-park.train.ko.temp\n",
      "trainer_interface.cc(385) LOG(INFO) Loaded all 181698 sentences\n",
      "trainer_interface.cc(400) LOG(INFO) Adding meta_piece: <unk>\n",
      "trainer_interface.cc(400) LOG(INFO) Adding meta_piece: <s>\n",
      "trainer_interface.cc(400) LOG(INFO) Adding meta_piece: </s>\n",
      "trainer_interface.cc(405) LOG(INFO) Normalizing sentences...\n",
      "trainer_interface.cc(466) LOG(INFO) all chars count=7114733\n",
      "trainer_interface.cc(477) LOG(INFO) Done: 99.9501% characters are covered.\n",
      "trainer_interface.cc(487) LOG(INFO) Alphabet size=1715\n",
      "trainer_interface.cc(488) LOG(INFO) Final character coverage=0.999501\n",
      "trainer_interface.cc(520) LOG(INFO) Done! preprocessed 181698 sentences.\n",
      "trainer_interface.cc(526) LOG(INFO) Tokenizing input sentences with whitespace: 181698\n",
      "trainer_interface.cc(537) LOG(INFO) Done! 444431\n",
      "bpe_model_trainer.cc(167) LOG(INFO) Updating active symbols. max_freq=94781 min_freq=99\n",
      "bpe_model_trainer.cc(258) LOG(INFO) Added: freq=14321 size=20 all=123333 active=11620 piece=▁어\n",
      "bpe_model_trainer.cc(258) LOG(INFO) Added: freq=11574 size=40 all=128415 active=16702 piece=▁1\n",
      "bpe_model_trainer.cc(258) LOG(INFO) Added: freq=8386 size=60 all=132156 active=20443 piece=▁생\n",
      "bpe_model_trainer.cc(258) LOG(INFO) Added: freq=6874 size=80 all=136461 active=24748 piece=▁생각\n",
      "bpe_model_trainer.cc(258) LOG(INFO) Added: freq=5463 size=100 all=140660 active=28947 piece=이라\n",
      "bpe_model_trainer.cc(167) LOG(INFO) Updating active symbols. max_freq=5443 min_freq=83\n",
      "bpe_model_trainer.cc(258) LOG(INFO) Added: freq=4767 size=120 all=143946 active=9778 piece=▁사람\n",
      "bpe_model_trainer.cc(258) LOG(INFO) Added: freq=4239 size=140 all=146799 active=12631 piece=적인\n",
      "bpe_model_trainer.cc(258) LOG(INFO) Added: freq=3717 size=160 all=149750 active=15582 piece=▁예\n",
      "bpe_model_trainer.cc(258) LOG(INFO) Added: freq=3483 size=180 all=152072 active=17904 piece=▁바\n",
      "bpe_model_trainer.cc(258) LOG(INFO) Added: freq=3120 size=200 all=154988 active=20820 piece=다가\n",
      "bpe_model_trainer.cc(167) LOG(INFO) Updating active symbols. max_freq=3120 min_freq=74\n",
      "bpe_model_trainer.cc(258) LOG(INFO) Added: freq=2912 size=220 all=157414 active=9889 piece=▁때\n",
      "bpe_model_trainer.cc(258) LOG(INFO) Added: freq=2739 size=240 all=161202 active=13677 piece=▁현\n",
      "bpe_model_trainer.cc(258) LOG(INFO) Added: freq=2496 size=260 all=164271 active=16746 piece=▁강\n",
      "bpe_model_trainer.cc(258) LOG(INFO) Added: freq=2365 size=280 all=167246 active=19721 piece=▁화\n",
      "bpe_model_trainer.cc(258) LOG(INFO) Added: freq=2210 size=300 all=169110 active=21585 piece=▁아이\n",
      "bpe_model_trainer.cc(167) LOG(INFO) Updating active symbols. max_freq=2204 min_freq=67\n",
      "bpe_model_trainer.cc(258) LOG(INFO) Added: freq=2044 size=320 all=171283 active=10536 piece=▁그런\n",
      "bpe_model_trainer.cc(258) LOG(INFO) Added: freq=1912 size=340 all=173704 active=12956 piece=▁같은\n",
      "bpe_model_trainer.cc(258) LOG(INFO) Added: freq=1832 size=360 all=176221 active=15473 piece=▁무슨\n",
      "bpe_model_trainer.cc(258) LOG(INFO) Added: freq=1740 size=380 all=178905 active=18157 piece=▁다른\n",
      "bpe_model_trainer.cc(258) LOG(INFO) Added: freq=1652 size=400 all=181080 active=20332 piece=구나\n",
      "bpe_model_trainer.cc(167) LOG(INFO) Updating active symbols. max_freq=1651 min_freq=61\n",
      "bpe_model_trainer.cc(258) LOG(INFO) Added: freq=1592 size=420 all=183522 active=11279 piece=▁.\n",
      "bpe_model_trainer.cc(258) LOG(INFO) Added: freq=1540 size=440 all=184952 active=12709 piece=▁OO\n",
      "bpe_model_trainer.cc(258) LOG(INFO) Added: freq=1460 size=460 all=187070 active=14827 piece=나서\n",
      "bpe_model_trainer.cc(258) LOG(INFO) Added: freq=1408 size=480 all=189267 active=17024 piece=▁9\n",
      "bpe_model_trainer.cc(258) LOG(INFO) Added: freq=1353 size=500 all=191218 active=18975 piece=▁찾\n",
      "bpe_model_trainer.cc(167) LOG(INFO) Updating active symbols. max_freq=1350 min_freq=57\n",
      "bpe_model_trainer.cc(258) LOG(INFO) Added: freq=1301 size=520 all=193109 active=11416 piece=▁모두\n",
      "bpe_model_trainer.cc(258) LOG(INFO) Added: freq=1229 size=540 all=194947 active=13254 piece=이는\n",
      "bpe_model_trainer.cc(258) LOG(INFO) Added: freq=1187 size=560 all=197062 active=15369 piece=리가\n",
      "bpe_model_trainer.cc(258) LOG(INFO) Added: freq=1156 size=580 all=199951 active=18258 piece=수록\n",
      "bpe_model_trainer.cc(258) LOG(INFO) Added: freq=1128 size=600 all=202001 active=20308 piece=▁크\n",
      "bpe_model_trainer.cc(167) LOG(INFO) Updating active symbols. max_freq=1128 min_freq=53\n",
      "bpe_model_trainer.cc(258) LOG(INFO) Added: freq=1079 size=620 all=204377 active=12416 piece=▁야\n",
      "bpe_model_trainer.cc(258) LOG(INFO) Added: freq=1053 size=640 all=206249 active=14288 piece=라리\n",
      "bpe_model_trainer.cc(258) LOG(INFO) Added: freq=1024 size=660 all=208277 active=16316 piece=▁아니다\n",
      "bpe_model_trainer.cc(258) LOG(INFO) Added: freq=995 size=680 all=211044 active=19083 piece=▁아쉬\n",
      "bpe_model_trainer.cc(258) LOG(INFO) Added: freq=965 size=700 all=212736 active=20775 piece=▁제대로\n",
      "bpe_model_trainer.cc(167) LOG(INFO) Updating active symbols. max_freq=964 min_freq=49\n",
      "bpe_model_trainer.cc(258) LOG(INFO) Added: freq=937 size=720 all=214607 active=12474 piece=▁않는\n",
      "bpe_model_trainer.cc(258) LOG(INFO) Added: freq=905 size=740 all=216240 active=14107 piece=▁각\n",
      "bpe_model_trainer.cc(258) LOG(INFO) Added: freq=875 size=760 all=217623 active=15490 piece=▁그러\n",
      "bpe_model_trainer.cc(258) LOG(INFO) Added: freq=859 size=780 all=219307 active=17174 piece=▁나와\n",
      "bpe_model_trainer.cc(258) LOG(INFO) Added: freq=841 size=800 all=220708 active=18575 piece=▁절대\n",
      "bpe_model_trainer.cc(167) LOG(INFO) Updating active symbols. max_freq=841 min_freq=46\n",
      "bpe_model_trainer.cc(258) LOG(INFO) Added: freq=819 size=820 all=222456 active=12733 piece=로운\n",
      "bpe_model_trainer.cc(258) LOG(INFO) Added: freq=803 size=840 all=223945 active=14222 piece=▁싫\n",
      "bpe_model_trainer.cc(258) LOG(INFO) Added: freq=776 size=860 all=225234 active=15511 piece=▁^^\n",
      "bpe_model_trainer.cc(258) LOG(INFO) Added: freq=764 size=880 all=226288 active=16565 piece=▁점수\n",
      "bpe_model_trainer.cc(258) LOG(INFO) Added: freq=748 size=900 all=227952 active=18229 piece=없음\n",
      "bpe_model_trainer.cc(167) LOG(INFO) Updating active symbols. max_freq=748 min_freq=44\n",
      "bpe_model_trainer.cc(258) LOG(INFO) Added: freq=730 size=920 all=229479 active=12769 piece=▁결국\n",
      "bpe_model_trainer.cc(258) LOG(INFO) Added: freq=716 size=940 all=231088 active=14378 piece=▁킬링\n",
      "bpe_model_trainer.cc(258) LOG(INFO) Added: freq=701 size=960 all=232197 active=15487 piece=▁못한\n",
      "bpe_model_trainer.cc(258) LOG(INFO) Added: freq=687 size=980 all=233199 active=16489 piece=▁왠\n",
      "bpe_model_trainer.cc(258) LOG(INFO) Added: freq=674 size=1000 all=234263 active=17553 piece=▁영화도\n",
      "bpe_model_trainer.cc(167) LOG(INFO) Updating active symbols. max_freq=673 min_freq=42\n",
      "bpe_model_trainer.cc(258) LOG(INFO) Added: freq=661 size=1020 all=236089 active=13525 piece=구요\n",
      "bpe_model_trainer.cc(258) LOG(INFO) Added: freq=650 size=1040 all=237514 active=14950 piece=▁꿈\n",
      "bpe_model_trainer.cc(258) LOG(INFO) Added: freq=630 size=1060 all=239253 active=16689 piece=▁안되는\n",
      "bpe_model_trainer.cc(258) LOG(INFO) Added: freq=616 size=1080 all=240721 active=18157 piece=00\n",
      "bpe_model_trainer.cc(258) LOG(INFO) Added: freq=604 size=1100 all=241993 active=19429 piece=~~~~\n",
      "bpe_model_trainer.cc(167) LOG(INFO) Updating active symbols. max_freq=603 min_freq=41\n",
      "bpe_model_trainer.cc(258) LOG(INFO) Added: freq=588 size=1120 all=243313 active=13391 piece=▁ᄒ\n",
      "bpe_model_trainer.cc(258) LOG(INFO) Added: freq=576 size=1140 all=244613 active=14691 piece=▁말도\n",
      "bpe_model_trainer.cc(258) LOG(INFO) Added: freq=562 size=1160 all=246236 active=16314 piece=▁영화네요\n",
      "bpe_model_trainer.cc(258) LOG(INFO) Added: freq=552 size=1180 all=247279 active=17357 piece=기만\n",
      "bpe_model_trainer.cc(258) LOG(INFO) Added: freq=542 size=1200 all=248955 active=19033 piece=▁걸작\n",
      "bpe_model_trainer.cc(167) LOG(INFO) Updating active symbols. max_freq=542 min_freq=39\n",
      "bpe_model_trainer.cc(258) LOG(INFO) Added: freq=529 size=1220 all=250355 active=13806 piece=그리고\n",
      "bpe_model_trainer.cc(258) LOG(INFO) Added: freq=517 size=1240 all=252039 active=15490 piece=멜로\n",
      "bpe_model_trainer.cc(258) LOG(INFO) Added: freq=507 size=1260 all=253452 active=16903 piece=▁재밌음\n",
      "bpe_model_trainer.cc(258) LOG(INFO) Added: freq=499 size=1280 all=254744 active=18194 piece=▁발연기\n",
      "bpe_model_trainer.cc(258) LOG(INFO) Added: freq=487 size=1300 all=256275 active=19725 piece=연히\n",
      "bpe_model_trainer.cc(167) LOG(INFO) Updating active symbols. max_freq=486 min_freq=37\n",
      "bpe_model_trainer.cc(258) LOG(INFO) Added: freq=476 size=1320 all=257775 active=14283 piece=▁노잼\n",
      "bpe_model_trainer.cc(258) LOG(INFO) Added: freq=469 size=1340 all=259072 active=15580 piece=▁귀엽\n",
      "bpe_model_trainer.cc(258) LOG(INFO) Added: freq=464 size=1360 all=260194 active=16702 piece=완전\n",
      "bpe_model_trainer.cc(258) LOG(INFO) Added: freq=457 size=1380 all=262139 active=18647 piece=▁맘에\n",
      "bpe_model_trainer.cc(258) LOG(INFO) Added: freq=450 size=1400 all=263149 active=19657 piece=▁그리\n",
      "bpe_model_trainer.cc(167) LOG(INFO) Updating active symbols. max_freq=450 min_freq=36\n",
      "bpe_model_trainer.cc(258) LOG(INFO) Added: freq=442 size=1420 all=264889 active=14838 piece=모르\n",
      "bpe_model_trainer.cc(258) LOG(INFO) Added: freq=434 size=1440 all=265823 active=15772 piece=▁ᄍᄍ\n",
      "bpe_model_trainer.cc(258) LOG(INFO) Added: freq=428 size=1460 all=266879 active=16828 piece=▁평점을\n",
      "bpe_model_trainer.cc(258) LOG(INFO) Added: freq=420 size=1480 all=267749 active=17698 piece=▁멜로\n",
      "bpe_model_trainer.cc(258) LOG(INFO) Added: freq=413 size=1500 all=269136 active=19085 piece=▁낮은\n",
      "bpe_model_trainer.cc(167) LOG(INFO) Updating active symbols. max_freq=412 min_freq=34\n",
      "bpe_model_trainer.cc(258) LOG(INFO) Added: freq=405 size=1520 all=270587 active=14874 piece=▁O\n",
      "bpe_model_trainer.cc(258) LOG(INFO) Added: freq=397 size=1540 all=271523 active=15810 piece=▁가치\n",
      "bpe_model_trainer.cc(258) LOG(INFO) Added: freq=392 size=1560 all=272665 active=16952 piece=!!!!!!!!\n",
      "bpe_model_trainer.cc(258) LOG(INFO) Added: freq=386 size=1580 all=273770 active=18057 piece=▁새로운\n",
      "bpe_model_trainer.cc(258) LOG(INFO) Added: freq=382 size=1600 all=274778 active=19065 piece=▁크리스\n",
      "bpe_model_trainer.cc(167) LOG(INFO) Updating active symbols. max_freq=381 min_freq=33\n",
      "bpe_model_trainer.cc(258) LOG(INFO) Added: freq=375 size=1620 all=275644 active=14584 piece=oo\n",
      "bpe_model_trainer.cc(258) LOG(INFO) Added: freq=372 size=1640 all=276838 active=15778 piece=▁그러나\n",
      "bpe_model_trainer.cc(258) LOG(INFO) Added: freq=365 size=1660 all=278182 active=17122 piece=▁된다\n",
      "bpe_model_trainer.cc(258) LOG(INFO) Added: freq=362 size=1680 all=279256 active=18196 piece=ᅲᅲᅲᅲ\n",
      "bpe_model_trainer.cc(258) LOG(INFO) Added: freq=356 size=1700 all=280576 active=19516 piece=▁순간\n",
      "bpe_model_trainer.cc(167) LOG(INFO) Updating active symbols. max_freq=356 min_freq=32\n",
      "bpe_model_trainer.cc(258) LOG(INFO) Added: freq=351 size=1720 all=282189 active=15608 piece=▁선택\n",
      "bpe_model_trainer.cc(258) LOG(INFO) Added: freq=347 size=1740 all=283312 active=16731 piece=내는\n",
      "bpe_model_trainer.cc(258) LOG(INFO) Added: freq=342 size=1760 all=284390 active=17809 piece=▁케이\n",
      "bpe_model_trainer.cc(258) LOG(INFO) Added: freq=336 size=1780 all=285639 active=19058 piece=▁아까움\n",
      "bpe_model_trainer.cc(258) LOG(INFO) Added: freq=332 size=1800 all=286479 active=19898 piece=▁참신\n",
      "bpe_model_trainer.cc(167) LOG(INFO) Updating active symbols. max_freq=332 min_freq=31\n",
      "bpe_model_trainer.cc(258) LOG(INFO) Added: freq=329 size=1820 all=287574 active=15383 piece=추천\n",
      "bpe_model_trainer.cc(258) LOG(INFO) Added: freq=325 size=1840 all=288754 active=16563 piece=▁대한민국\n",
      "bpe_model_trainer.cc(258) LOG(INFO) Added: freq=320 size=1860 all=290295 active=18104 piece=▁액션도\n",
      "bpe_model_trainer.cc(258) LOG(INFO) Added: freq=317 size=1880 all=291133 active=18942 piece=였는데\n",
      "bpe_model_trainer.cc(258) LOG(INFO) Added: freq=312 size=1900 all=292161 active=19970 piece=영상\n",
      "bpe_model_trainer.cc(167) LOG(INFO) Updating active symbols. max_freq=312 min_freq=30\n",
      "bpe_model_trainer.cc(258) LOG(INFO) Added: freq=308 size=1920 all=293144 active=15445 piece=랄까\n",
      "bpe_model_trainer.cc(258) LOG(INFO) Added: freq=303 size=1940 all=294190 active=16491 piece=▁깜\n",
      "bpe_model_trainer.cc(258) LOG(INFO) Added: freq=301 size=1960 all=295069 active=17370 piece=▁가능\n",
      "bpe_model_trainer.cc(258) LOG(INFO) Added: freq=298 size=1980 all=296082 active=18383 piece=▁전설\n",
      "bpe_model_trainer.cc(258) LOG(INFO) Added: freq=295 size=2000 all=297519 active=19820 piece=▁알았다\n",
      "bpe_model_trainer.cc(167) LOG(INFO) Updating active symbols. max_freq=295 min_freq=29\n",
      "bpe_model_trainer.cc(258) LOG(INFO) Added: freq=291 size=2020 all=298297 active=15645 piece=한듯\n",
      "bpe_model_trainer.cc(258) LOG(INFO) Added: freq=288 size=2040 all=299192 active=16540 piece=▁어렸을때\n",
      "bpe_model_trainer.cc(258) LOG(INFO) Added: freq=284 size=2060 all=300072 active=17419 piece=▁뜬금\n",
      "bpe_model_trainer.cc(258) LOG(INFO) Added: freq=281 size=2080 all=301028 active=18375 piece=▁놀라\n",
      "bpe_model_trainer.cc(258) LOG(INFO) Added: freq=279 size=2100 all=302000 active=19347 piece=▁이상한\n",
      "bpe_model_trainer.cc(167) LOG(INFO) Updating active symbols. max_freq=279 min_freq=29\n",
      "bpe_model_trainer.cc(258) LOG(INFO) Added: freq=276 size=2120 all=302895 active=15964 piece=▁화이팅\n",
      "bpe_model_trainer.cc(258) LOG(INFO) Added: freq=273 size=2140 all=304071 active=17140 piece=▁왜이리\n",
      "bpe_model_trainer.cc(258) LOG(INFO) Added: freq=270 size=2160 all=305296 active=18365 piece=▁무엇보다\n",
      "bpe_model_trainer.cc(258) LOG(INFO) Added: freq=265 size=2180 all=305850 active=18919 piece=감을\n",
      "bpe_model_trainer.cc(258) LOG(INFO) Added: freq=263 size=2200 all=307195 active=20264 piece=▁진부한\n",
      "bpe_model_trainer.cc(167) LOG(INFO) Updating active symbols. max_freq=263 min_freq=28\n",
      "bpe_model_trainer.cc(258) LOG(INFO) Added: freq=260 size=2220 all=308123 active=16275 piece=▁부족한\n",
      "bpe_model_trainer.cc(258) LOG(INFO) Added: freq=258 size=2240 all=309261 active=17413 piece=사람이\n",
      "bpe_model_trainer.cc(258) LOG(INFO) Added: freq=255 size=2260 all=310438 active=18590 piece=기다\n",
      "bpe_model_trainer.cc(258) LOG(INFO) Added: freq=252 size=2280 all=311543 active=19695 piece=▁cg\n",
      "bpe_model_trainer.cc(258) LOG(INFO) Added: freq=250 size=2300 all=312202 active=20354 piece=▁눈을\n",
      "bpe_model_trainer.cc(167) LOG(INFO) Updating active symbols. max_freq=250 min_freq=27\n",
      "bpe_model_trainer.cc(258) LOG(INFO) Added: freq=249 size=2320 all=312761 active=16159 piece=▁시간낭비\n",
      "bpe_model_trainer.cc(258) LOG(INFO) Added: freq=247 size=2340 all=314028 active=17426 piece=▁실패\n",
      "bpe_model_trainer.cc(258) LOG(INFO) Added: freq=243 size=2360 all=315349 active=18747 piece=▁눈이\n",
      "bpe_model_trainer.cc(258) LOG(INFO) Added: freq=240 size=2380 all=316301 active=19699 piece=▁짓\n",
      "bpe_model_trainer.cc(258) LOG(INFO) Added: freq=239 size=2400 all=316954 active=20352 piece=▁스토리를\n",
      "bpe_model_trainer.cc(167) LOG(INFO) Updating active symbols. max_freq=238 min_freq=26\n",
      "bpe_model_trainer.cc(258) LOG(INFO) Added: freq=236 size=2420 all=317854 active=16743 piece=지않는\n",
      "bpe_model_trainer.cc(258) LOG(INFO) Added: freq=233 size=2440 all=318663 active=17552 piece=▁대충\n",
      "bpe_model_trainer.cc(258) LOG(INFO) Added: freq=231 size=2460 all=319491 active=18380 piece=▁재밌어\n",
      "bpe_model_trainer.cc(258) LOG(INFO) Added: freq=228 size=2480 all=320460 active=19349 piece=▁엑\n",
      "bpe_model_trainer.cc(258) LOG(INFO) Added: freq=227 size=2500 all=321304 active=20193 piece=▁보는게\n",
      "bpe_model_trainer.cc(167) LOG(INFO) Updating active symbols. max_freq=226 min_freq=26\n",
      "bpe_model_trainer.cc(258) LOG(INFO) Added: freq=224 size=2520 all=322065 active=16823 piece=▁하나하나\n",
      "bpe_model_trainer.cc(258) LOG(INFO) Added: freq=221 size=2540 all=323278 active=18036 piece=하지마\n",
      "bpe_model_trainer.cc(258) LOG(INFO) Added: freq=219 size=2560 all=323966 active=18724 piece=▁사는\n",
      "bpe_model_trainer.cc(258) LOG(INFO) Added: freq=217 size=2580 all=324542 active=19300 piece=구려\n",
      "bpe_model_trainer.cc(258) LOG(INFO) Added: freq=215 size=2600 all=325388 active=20146 piece=상이\n",
      "bpe_model_trainer.cc(167) LOG(INFO) Updating active symbols. max_freq=215 min_freq=25\n",
      "bpe_model_trainer.cc(258) LOG(INFO) Added: freq=214 size=2620 all=326231 active=17013 piece=▁상처\n",
      "bpe_model_trainer.cc(258) LOG(INFO) Added: freq=212 size=2640 all=327104 active=17886 piece=었네\n",
      "bpe_model_trainer.cc(258) LOG(INFO) Added: freq=210 size=2660 all=328058 active=18840 piece=▁밝\n",
      "bpe_model_trainer.cc(258) LOG(INFO) Added: freq=208 size=2680 all=328843 active=19625 piece=▁뭉\n",
      "bpe_model_trainer.cc(258) LOG(INFO) Added: freq=207 size=2700 all=329616 active=20398 piece=▁나타\n",
      "bpe_model_trainer.cc(167) LOG(INFO) Updating active symbols. max_freq=207 min_freq=25\n",
      "bpe_mode"
     ]
    },
    {
     "name": "stdout",
     "output_type": "stream",
     "text": [
      "-rw-r--r-- 1 root root 374785 Feb 22 09:42 korean_spm.model\r\n",
      "-rw-r--r-- 1 root root 144131 Feb 22 09:42 korean_spm.vocab\r\n"
     ]
    }
   ],
   "source": [
    "import sentencepiece as spm\n",
    "import os\n",
    "temp_file = os.getenv('HOME')+'/aiffel/sp_tokenizer/data/korean-english-park.train.ko.temp'\n",
    "\n",
    "vocab_size = 8000\n",
    "\n",
    "with open(temp_file, 'w') as f:\n",
    "    for row in filtered_corpus:   # 이전 스텝에서 정제했던 corpus를 활용합니다.\n",
    "        f.write(str(row) + '\\n')\n",
    "\n",
    "spm.SentencePieceTrainer.Train(\n",
    "    '--input={} --model_prefix=korean_spm --vocab_size={}'.format(temp_file, vocab_size)    \n",
    ")\n",
    "\n",
    "spm.SentencePieceTrainer.Train(\n",
    "    '--input={} --model_prefix=kor_spm_bpe_8k --model_type=bpe --vocab_size={}'.format(temp_file, vocab_size)    \n",
    ")\n",
    "\n",
    "#위 Train에서  --model_type = unigram이 디폴트 적용되어 있습니다. --model_type = bpe로 옵션을 주어 변경할 수 있습니다.\n",
    "\n",
    "!ls -l korean_spm*"
   ]
  },
  {
   "cell_type": "code",
   "execution_count": null,
   "id": "d8a1b4a6",
   "metadata": {},
   "outputs": [],
   "source": []
  },
  {
   "cell_type": "code",
   "execution_count": 29,
   "id": "7d5ae1e8",
   "metadata": {},
   "outputs": [],
   "source": [
    "def performance (model):\n",
    "    s = spm.SentencePieceProcessor()\n",
    "    s.Load(model)\n",
    "\n",
    "    # SentencePiece를 활용한 sentence -> encoding\n",
    "    tokensIDs = s.EncodeAsIds('아버지가방에들어가신다.')\n",
    "    print(tokensIDs)\n",
    "\n",
    "    # SentencePiece를 활용한 sentence -> encoded pieces\n",
    "    print(s.SampleEncodeAsPieces('아버지가방에들어가신다.',1, 0.0))\n",
    "\n",
    "    # SentencePiece를 활용한 encoding -> sentence 복원\n",
    "    print(s.DecodeIds(tokensIDs))"
   ]
  },
  {
   "cell_type": "code",
   "execution_count": null,
   "id": "c6849d8a",
   "metadata": {},
   "outputs": [],
   "source": []
  },
  {
   "cell_type": "code",
   "execution_count": 30,
   "id": "23183742",
   "metadata": {},
   "outputs": [
    {
     "name": "stdout",
     "output_type": "stream",
     "text": [
      "[1391, 10, 381, 15, 1305, 10, 129, 18, 4]\n",
      "['▁아버지', '가', '방', '에', '들어', '가', '신', '다', '.']\n",
      "아버지가방에들어가신다.\n"
     ]
    }
   ],
   "source": [
    "# unigram\n",
    "performance(model='korean_spm.model')"
   ]
  },
  {
   "cell_type": "code",
   "execution_count": 31,
   "id": "69a71152",
   "metadata": {},
   "outputs": [
    {
     "name": "stdout",
     "output_type": "stream",
     "text": [
      "[4809, 870, 6550, 6298, 6317, 1373, 6395, 6288, 6286]\n",
      "['▁아버', '지가', '방', '에', '들', '어가', '신', '다', '.']\n",
      "아버지가방에들어가신다.\n"
     ]
    }
   ],
   "source": [
    "# bpe \n",
    "performance(model='kor_spm_bpe_8k.model')"
   ]
  },
  {
   "cell_type": "code",
   "execution_count": null,
   "id": "a0168ac4",
   "metadata": {},
   "outputs": [],
   "source": []
  },
  {
   "cell_type": "code",
   "execution_count": null,
   "id": "93db77ee",
   "metadata": {},
   "outputs": [],
   "source": []
  },
  {
   "cell_type": "code",
   "execution_count": 32,
   "id": "788153b6",
   "metadata": {},
   "outputs": [],
   "source": [
    "# Tokenizer 함수 작성"
   ]
  },
  {
   "cell_type": "code",
   "execution_count": 33,
   "id": "6379482c",
   "metadata": {},
   "outputs": [],
   "source": [
    "def sp_tokenize(s, corpus, spm):\n",
    "\n",
    "    tensor = []\n",
    "\n",
    "    for sen in corpus:\n",
    "        tensor.append(s.EncodeAsIds(sen))\n",
    "\n",
    "    with open(\"./korean_spm.vocab\", 'r') as f:\n",
    "        vocab = f.readlines()\n",
    "\n",
    "    word_index = {}\n",
    "    index_word = {}\n",
    "\n",
    "    for idx, line in enumerate(vocab):\n",
    "        word = line.split(\"\\t\")[0]\n",
    "\n",
    "        word_index.update({word:idx})\n",
    "        index_word.update({idx:word})\n",
    "\n",
    "    tensor = tf.keras.preprocessing.sequence.pad_sequences(tensor, padding='post')\n",
    "\n",
    "    return tensor, word_index, index_word"
   ]
  },
  {
   "cell_type": "code",
   "execution_count": 34,
   "id": "2f109c68",
   "metadata": {},
   "outputs": [
    {
     "name": "stdout",
     "output_type": "stream",
     "text": [
      "[[ 584 2733   14 1192 2016    4    0    0    0    0]\n",
      " [1538 2442  317  579   10    3   16 7947  652    8]]\n"
     ]
    }
   ],
   "source": [
    "# sp_tokenize(s, corpus) 사용 예제\n",
    "\n",
    "s = spm.SentencePieceProcessor()\n",
    "# s.Load('kor_spm_bpe_16k.model')  # lstm 학습시 오류\n",
    "\n",
    "s.Load('korean_spm.model') \n",
    "\n",
    "my_corpus = ['나는 밥을 먹었습니다.', '그러나 여전히 ㅠㅠ 배가 고픕니다...']\n",
    "tensor, word_index, index_word = sp_tokenize(s, my_corpus, 'korean_spm')           \n",
    "print(tensor)\n",
    "# print(word_index)\n",
    "# print(index_word)"
   ]
  },
  {
   "cell_type": "code",
   "execution_count": null,
   "id": "7a17636e",
   "metadata": {},
   "outputs": [],
   "source": []
  },
  {
   "cell_type": "code",
   "execution_count": 35,
   "id": "34267f4f",
   "metadata": {},
   "outputs": [],
   "source": [
    "# LSTM\n",
    "from tensorflow import keras\n",
    "from sklearn.model_selection import train_test_split\n",
    "import pandas as pd\n",
    "import numpy as np\n",
    "import re\n",
    "import urllib.request\n",
    "import sentencepiece as spm\n",
    "from tensorflow.keras.preprocessing.sequence import pad_sequences\n",
    "from tensorflow.keras.utils import to_categorical\n",
    "from tensorflow.keras.layers import Embedding, LSTM, Dense\n",
    "from tensorflow.keras.models import Sequential"
   ]
  },
  {
   "cell_type": "code",
   "execution_count": 36,
   "id": "2941fc01",
   "metadata": {},
   "outputs": [],
   "source": [
    "def sp_tokenize(s, corpus, spm):\n",
    "\n",
    "    tensor = []\n",
    "\n",
    "    for sen in corpus:\n",
    "        tensor.append(s.EncodeAsIds(sen))\n",
    "\n",
    "    with open(\"./{}.vocab\".format(spm), 'r') as f: \n",
    "        vocab = f.readlines()\n",
    "\n",
    "    word_index = {}\n",
    "    index_word = {}\n",
    "\n",
    "    for idx, line in enumerate(vocab):\n",
    "        word = line.split(\"\\t\")[0]\n",
    "\n",
    "        word_index.update({idx:word})\n",
    "        index_word.update({word:idx})\n",
    "\n",
    "    tensor = tf.keras.preprocessing.sequence.pad_sequences(tensor, padding='pre', maxlen=max_len)\n",
    "\n",
    "    return tensor, word_index, index_word"
   ]
  },
  {
   "cell_type": "code",
   "execution_count": 37,
   "id": "99d64db7",
   "metadata": {},
   "outputs": [
    {
     "name": "stdout",
     "output_type": "stream",
     "text": [
      "[[   0    0    0    0    0    0    0    0    0    0    0    0    0    0\n",
      "     0    0    0    0    0    0    0    0    0    0    0    0    0    0\n",
      "     0    0    0    0    0    0    0    0    0    0    0    0    0    0\n",
      "     0    0    0    0    0    0    0    0    0    0    0    0    0    0\n",
      "     0    0    0    0    0    0    0    0    0    0    0    0    0    0\n",
      "     0    0    0    0    0    0    0    0    0    0    0    0    0    0\n",
      "     0    0    0    0    0    0    0    0    0    0    0    0    0    0\n",
      "     0    0    0    0    0    0    0    0    0    0    0    0    0    0\n",
      "     0    0    0    0    0    0    0    0    0    0    0    0    0    0\n",
      "     0    0    0    0    0    0    0    0    0    0    0    0    0    0\n",
      "     0    0    0    0  584 2733   14 1192 2016    4]\n",
      " [   0    0    0    0    0    0    0    0    0    0    0    0    0    0\n",
      "     0    0    0    0    0    0    0    0    0    0    0    0    0    0\n",
      "     0    0    0    0    0    0    0    0    0    0    0    0    0    0\n",
      "     0    0    0    0    0    0    0    0    0    0    0    0    0    0\n",
      "     0    0    0    0    0    0    0    0    0    0    0    0    0    0\n",
      "     0    0    0    0    0    0    0    0    0    0    0    0    0    0\n",
      "     0    0    0    0    0    0    0    0    0    0    0    0    0    0\n",
      "     0    0    0    0    0    0    0    0    0    0    0    0    0    0\n",
      "     0    0    0    0    0    0    0    0    0    0    0    0    0    0\n",
      "     0    0    0    0    0    0    0    0    0    0    0    0    0    0\n",
      "  1538 2442  317  579   10    3   16 7947  652    8]]\n"
     ]
    }
   ],
   "source": [
    "# sp_tokenize(s, corpus) 사용 예제\n",
    "\n",
    "s = spm.SentencePieceProcessor()\n",
    "# s.Load('kor_spm_bpe_16k.model')  # lstm 학습시 오류\n",
    "\n",
    "s.Load('korean_spm.model') \n",
    "\n",
    "my_corpus = ['나는 밥을 먹었습니다.', '그러나 여전히 ㅠㅠ 배가 고픕니다...']\n",
    "tensor, word_index, index_word = sp_tokenize(s, my_corpus, 'korean_spm')           \n",
    "print(tensor)"
   ]
  },
  {
   "cell_type": "code",
   "execution_count": 38,
   "id": "d32105b6",
   "metadata": {},
   "outputs": [],
   "source": [
    "tensor, word_index, index_word = sp_tokenize(s, all_data['document'], 'korean_spm')"
   ]
  },
  {
   "cell_type": "code",
   "execution_count": 39,
   "id": "790ed8ea",
   "metadata": {},
   "outputs": [],
   "source": [
    "from sklearn.model_selection import train_test_split\n",
    "\n",
    "filtered_label = np.array(all_data['label'])\n",
    "x_train, x_val, y_train, y_val = train_test_split(tensor, filtered_label, test_size=0.2)\n",
    "x_train, x_test, y_train, y_test = train_test_split(x_train, y_train, test_size=0.2)"
   ]
  },
  {
   "cell_type": "code",
   "execution_count": 40,
   "id": "d2c983e5",
   "metadata": {},
   "outputs": [
    {
     "name": "stdout",
     "output_type": "stream",
     "text": [
      "127994 31999 39999\n",
      "127994 31999 39999\n"
     ]
    }
   ],
   "source": [
    "print(len(x_train), len(x_test), len(x_val))\n",
    "print(len(y_train), len(y_test), len(y_val))"
   ]
  },
  {
   "cell_type": "code",
   "execution_count": 41,
   "id": "305770ba",
   "metadata": {
    "scrolled": true
   },
   "outputs": [
    {
     "name": "stdout",
     "output_type": "stream",
     "text": [
      "Model: \"sequential\"\n",
      "_________________________________________________________________\n",
      "Layer (type)                 Output Shape              Param #   \n",
      "=================================================================\n",
      "embedding (Embedding)        (None, None, 32)          256000    \n",
      "_________________________________________________________________\n",
      "lstm (LSTM)                  (None, 128)               82432     \n",
      "_________________________________________________________________\n",
      "dense (Dense)                (None, 1)                 129       \n",
      "=================================================================\n",
      "Total params: 338,561\n",
      "Trainable params: 338,561\n",
      "Non-trainable params: 0\n",
      "_________________________________________________________________\n"
     ]
    }
   ],
   "source": [
    "from tensorflow.keras.initializers import Constant\n",
    "\n",
    "vocab_size = vocab_size\n",
    "word_vector_dim = 32  \n",
    "\n",
    "model_LSTM = keras.Sequential()\n",
    "model_LSTM.add(keras.layers.Embedding(vocab_size, \n",
    "                                 word_vector_dim,\n",
    "                                    ))\n",
    "            \n",
    "model_LSTM.add(keras.layers.LSTM(128)) \n",
    "model_LSTM.add(keras.layers.Dense(1, activation='sigmoid'))  # 최종 출력은 긍정/부정을 나타내는 1dim 입니다.\n",
    "\n",
    "model_LSTM.summary()"
   ]
  },
  {
   "cell_type": "code",
   "execution_count": 42,
   "id": "9d779388",
   "metadata": {},
   "outputs": [],
   "source": [
    "es = keras.callbacks.EarlyStopping(monitor='val_loss', mode='min', verbose=1, patience=4)\n"
   ]
  },
  {
   "cell_type": "code",
   "execution_count": 43,
   "id": "bc2753a7",
   "metadata": {},
   "outputs": [
    {
     "name": "stdout",
     "output_type": "stream",
     "text": [
      "Epoch 1/10\n",
      "2000/2000 [==============================] - 44s 10ms/step - loss: 0.4036 - accuracy: 0.8190 - val_loss: 0.3454 - val_accuracy: 0.8517\n",
      "Epoch 2/10\n",
      "2000/2000 [==============================] - 20s 10ms/step - loss: 0.3139 - accuracy: 0.8651 - val_loss: 0.3242 - val_accuracy: 0.8579\n",
      "Epoch 3/10\n",
      "2000/2000 [==============================] - 20s 10ms/step - loss: 0.2799 - accuracy: 0.8812 - val_loss: 0.3274 - val_accuracy: 0.8561\n",
      "Epoch 4/10\n",
      "2000/2000 [==============================] - 20s 10ms/step - loss: 0.2525 - accuracy: 0.8948 - val_loss: 0.3324 - val_accuracy: 0.8604\n",
      "Epoch 5/10\n",
      "2000/2000 [==============================] - 20s 10ms/step - loss: 0.2264 - accuracy: 0.9065 - val_loss: 0.3477 - val_accuracy: 0.8562\n",
      "Epoch 6/10\n",
      "2000/2000 [==============================] - 20s 10ms/step - loss: 0.2017 - accuracy: 0.9177 - val_loss: 0.3678 - val_accuracy: 0.8537\n",
      "Epoch 00006: early stopping\n"
     ]
    }
   ],
   "source": [
    "model_LSTM.compile(optimizer='adam',\n",
    "              loss='binary_crossentropy',\n",
    "              metrics=['accuracy'])\n",
    "              \n",
    "epochs=10\n",
    "batch_size=64\n",
    "\n",
    "history_LSTM = model_LSTM.fit(x_train,\n",
    "                    y_train,\n",
    "                    epochs=epochs,\n",
    "                    batch_size=batch_size,\n",
    "                    validation_data=(x_val,y_val),\n",
    "                    callbacks=es,\n",
    "                    verbose=1)"
   ]
  },
  {
   "cell_type": "code",
   "execution_count": 44,
   "id": "3780fddc",
   "metadata": {},
   "outputs": [
    {
     "name": "stdout",
     "output_type": "stream",
     "text": [
      "1000/1000 - 4s - loss: 0.3589 - accuracy: 0.8558\n",
      "[0.3588990569114685, 0.8558080196380615]\n"
     ]
    }
   ],
   "source": [
    "results = model_LSTM.evaluate(x_test,  y_test, verbose=2)\n",
    "print(results)"
   ]
  },
  {
   "cell_type": "code",
   "execution_count": null,
   "id": "5e4fb60c",
   "metadata": {},
   "outputs": [],
   "source": []
  },
  {
   "cell_type": "code",
   "execution_count": null,
   "id": "3a820b6c",
   "metadata": {},
   "outputs": [],
   "source": []
  },
  {
   "cell_type": "code",
   "execution_count": null,
   "id": "c3addc51",
   "metadata": {},
   "outputs": [],
   "source": []
  },
  {
   "cell_type": "code",
   "execution_count": null,
   "id": "f2f3e7f9",
   "metadata": {},
   "outputs": [],
   "source": []
  }
 ],
 "metadata": {
  "kernelspec": {
   "display_name": "Python 3 (ipykernel)",
   "language": "python",
   "name": "python3"
  },
  "language_info": {
   "codemirror_mode": {
    "name": "ipython",
    "version": 3
   },
   "file_extension": ".py",
   "mimetype": "text/x-python",
   "name": "python",
   "nbconvert_exporter": "python",
   "pygments_lexer": "ipython3",
   "version": "3.9.7"
  }
 },
 "nbformat": 4,
 "nbformat_minor": 5
}
